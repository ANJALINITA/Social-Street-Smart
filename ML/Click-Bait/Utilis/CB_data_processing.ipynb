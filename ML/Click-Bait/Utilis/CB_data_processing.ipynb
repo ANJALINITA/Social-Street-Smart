{
 "cells": [
  {
   "cell_type": "code",
   "execution_count": 2,
   "metadata": {},
   "outputs": [],
   "source": [
    "import json\n",
    "import pandas as pd, numpy as np\n",
    "from tqdm import tqdm\n",
    "import string"
   ]
  },
  {
   "cell_type": "code",
   "execution_count": 6,
   "metadata": {},
   "outputs": [],
   "source": [
    "buzzfeed_CB= json.loads((open(r\"..\\Data\\Raw\\buzzfeed.json\")).read())"
   ]
  },
  {
   "cell_type": "code",
   "execution_count": 7,
   "metadata": {},
   "outputs": [
    {
     "data": {
      "text/plain": [
       "{'article_title': '23 Life Lessons Cosmo Kramer Taught Us',\n",
       " 'clickbait': 1,\n",
       " 'response_count': 280,\n",
       " 'article_url': '/javiermoreno/ife-lessons-you-learned-from-cosmo-kramer',\n",
       " 'author': {'url': '/javiermoreno', 'name': 'Javier Moreno'}}"
      ]
     },
     "execution_count": 7,
     "metadata": {},
     "output_type": "execute_result"
    }
   ],
   "source": [
    "buzzfeed_CB[0]"
   ]
  },
  {
   "cell_type": "code",
   "execution_count": 8,
   "metadata": {},
   "outputs": [],
   "source": [
    "clickhole_CB = json.loads((open(r\"..\\Data\\Raw\\clickhole.json\")).read())"
   ]
  },
  {
   "cell_type": "code",
   "execution_count": 9,
   "metadata": {},
   "outputs": [
    {
     "data": {
      "text/plain": [
       "{'article_title': 'And What A Year It’s Been: Looking Back On The Best, Worst, And Weirdest Stories That Made 2014 An Incredible Year For The Internet',\n",
       " 'clickbait': 1,\n",
       " 'article_url': '/article/and-what-year-its-been-looking-back-best-worst-and-1605'}"
      ]
     },
     "execution_count": 9,
     "metadata": {},
     "output_type": "execute_result"
    }
   ],
   "source": [
    "clickhole_CB[0]"
   ]
  },
  {
   "cell_type": "code",
   "execution_count": 10,
   "metadata": {},
   "outputs": [],
   "source": [
    "dose_CB=json.loads((open(r\"..\\Data\\Raw\\dose.json\")).read())"
   ]
  },
  {
   "cell_type": "code",
   "execution_count": 11,
   "metadata": {},
   "outputs": [],
   "source": [
    "nyt_NCB = json.loads((open(r\"..\\Data\\Raw\\nytimes.json\")).read())"
   ]
  },
  {
   "cell_type": "code",
   "execution_count": 12,
   "metadata": {},
   "outputs": [
    {
     "data": {
      "text/plain": [
       "({'article_title': \" This Artist Takes Kids' Drawings...But You'll Never Guess Why\",\n",
       "  'clickbait': 1,\n",
       "  'article_url': 'http://www.dose.com/lists/16905/This-Artist-Takes-Kids-Drawings-But-You-ll-Never-Guess-Why'},\n",
       " {'article_title': \"Nation's Smaller Jails Struggle To Cope With Surge in Inmates\",\n",
       "  'clickbait': 0,\n",
       "  'topic_code': '12',\n",
       "  'article_subject': 'Jails overwhelmed with hardened criminals',\n",
       "  'date': '1-Jan-96',\n",
       "  'article_id': '41246'})"
      ]
     },
     "execution_count": 12,
     "metadata": {},
     "output_type": "execute_result"
    }
   ],
   "source": [
    "dose_CB[0],nyt_NCB[0]"
   ]
  },
  {
   "cell_type": "code",
   "execution_count": 13,
   "metadata": {},
   "outputs": [],
   "source": [
    "other_CB_fp= open(r\"..\\Data\\Raw\\clickbait.txt\",'r')"
   ]
  },
  {
   "cell_type": "code",
   "execution_count": 14,
   "metadata": {},
   "outputs": [],
   "source": [
    "other_CB= other_CB_fp.read().splitlines()"
   ]
  },
  {
   "cell_type": "code",
   "execution_count": 15,
   "metadata": {},
   "outputs": [
    {
     "data": {
      "text/plain": [
       "('10 Celebs Killin The Elf On The Shelf Game', 5637)"
      ]
     },
     "execution_count": 15,
     "metadata": {},
     "output_type": "execute_result"
    }
   ],
   "source": [
    "other_CB[0], len(other_CB)"
   ]
  },
  {
   "cell_type": "code",
   "execution_count": 16,
   "metadata": {},
   "outputs": [],
   "source": [
    "other_NCB_fp= open(r\"..\\Data\\Raw\\genuine.txt\",'r')"
   ]
  },
  {
   "cell_type": "code",
   "execution_count": 17,
   "metadata": {},
   "outputs": [],
   "source": [
    "other_NCB= other_NCB_fp.read().splitlines()"
   ]
  },
  {
   "cell_type": "code",
   "execution_count": 18,
   "metadata": {},
   "outputs": [
    {
     "data": {
      "text/plain": [
       "('A simmering resentment', 6080)"
      ]
     },
     "execution_count": 18,
     "metadata": {},
     "output_type": "execute_result"
    }
   ],
   "source": [
    "other_NCB[0],len(other_NCB)"
   ]
  },
  {
   "cell_type": "code",
   "execution_count": 20,
   "metadata": {},
   "outputs": [],
   "source": [
    "pre_mergedData= pd.read_csv(r\"..\\Data\\final.csv\")"
   ]
  },
  {
   "cell_type": "code",
   "execution_count": 21,
   "metadata": {},
   "outputs": [],
   "source": [
    "pre_merged_titles= pre_mergedData['targetTitle'].tolist()\n",
    "pre_merged_labels= [1 if x>=0.5 else 0 for x in pre_mergedData['truthMean']]"
   ]
  },
  {
   "cell_type": "code",
   "execution_count": 22,
   "metadata": {},
   "outputs": [
    {
     "data": {
      "text/plain": [
       "('‘Inexcusable’ failures in UK’s response to modern slavery leaving victims destitute while abusers go free, report warns',\n",
       " 0,\n",
       " 41256)"
      ]
     },
     "execution_count": 22,
     "metadata": {},
     "output_type": "execute_result"
    }
   ],
   "source": [
    "pre_merged_titles[0],pre_merged_labels[0], len(pre_merged_labels)"
   ]
  },
  {
   "cell_type": "code",
   "execution_count": 23,
   "metadata": {},
   "outputs": [
    {
     "data": {
      "text/plain": [
       "59173"
      ]
     },
     "execution_count": 23,
     "metadata": {},
     "output_type": "execute_result"
    }
   ],
   "source": [
    "len(buzzfeed_CB)+len(clickhole_CB)+len(dose_CB)+len(nyt_NCB)+len(other_CB)+len(other_NCB)+len(pre_merged_labels)"
   ]
  },
  {
   "cell_type": "code",
   "execution_count": 24,
   "metadata": {},
   "outputs": [],
   "source": [
    "data= {'id':[], 'titles':[], 'clickbait':[]}"
   ]
  },
  {
   "cell_type": "code",
   "execution_count": 25,
   "metadata": {},
   "outputs": [],
   "source": [
    "t=1;"
   ]
  },
  {
   "cell_type": "code",
   "execution_count": 26,
   "metadata": {},
   "outputs": [],
   "source": [
    "#for buzzfeed click bait data\n",
    "for x in buzzfeed_CB:\n",
    "    data['id'].append(t)\n",
    "    t+=1\n",
    "    data['titles'].append(x['article_title'])\n",
    "    data['clickbait'].append(x['clickbait'])\n",
    "    "
   ]
  },
  {
   "cell_type": "code",
   "execution_count": 27,
   "metadata": {},
   "outputs": [],
   "source": [
    "#for clickHole click bait data\n",
    "for x in clickhole_CB:\n",
    "    data['id'].append(t)\n",
    "    t+=1\n",
    "    data['titles'].append(x['article_title'])\n",
    "    data['clickbait'].append(x['clickbait'])"
   ]
  },
  {
   "cell_type": "code",
   "execution_count": 28,
   "metadata": {},
   "outputs": [],
   "source": [
    "#for dose click bait dataset\n",
    "for x in dose_CB:\n",
    "    data['id'].append(t)\n",
    "    t+=1\n",
    "    data['titles'].append(x['article_title'])\n",
    "    data['clickbait'].append(x['clickbait'])"
   ]
  },
  {
   "cell_type": "code",
   "execution_count": 29,
   "metadata": {},
   "outputs": [],
   "source": [
    "#for New york times click bait data\n",
    "for x in nyt_NCB:\n",
    "    data['id'].append(t)\n",
    "    t+=1\n",
    "    data['titles'].append(x['article_title'])\n",
    "    data['clickbait'].append(x['clickbait'])"
   ]
  },
  {
   "cell_type": "code",
   "execution_count": 30,
   "metadata": {},
   "outputs": [],
   "source": [
    "# for click bait data source from other sites\n",
    "for x in other_CB:\n",
    "    data['id'].append(t)\n",
    "    t+=1\n",
    "    data['titles'].append(x)\n",
    "    data['clickbait'].append(1)"
   ]
  },
  {
   "cell_type": "code",
   "execution_count": 31,
   "metadata": {},
   "outputs": [],
   "source": [
    "# for non click bait data source from other sites\n",
    "for x in other_NCB:\n",
    "    data['id'].append(t)\n",
    "    t+=1\n",
    "    data['titles'].append(x)\n",
    "    data['clickbait'].append(0)"
   ]
  },
  {
   "cell_type": "code",
   "execution_count": 32,
   "metadata": {},
   "outputs": [],
   "source": [
    "for i in range(len(pre_merged_labels)):\n",
    "    data['id'].append(t)\n",
    "    t+=1\n",
    "    data['titles'].append(pre_merged_titles[i])\n",
    "    data['clickbait'].append(pre_merged_labels[i])"
   ]
  },
  {
   "cell_type": "code",
   "execution_count": 33,
   "metadata": {},
   "outputs": [],
   "source": [
    "data= pd.DataFrame(data)"
   ]
  },
  {
   "cell_type": "code",
   "execution_count": 34,
   "metadata": {},
   "outputs": [],
   "source": [
    "#to shuffle data\n",
    "data= data.sample(frac=1)"
   ]
  },
  {
   "cell_type": "code",
   "execution_count": 36,
   "metadata": {},
   "outputs": [
    {
     "data": {
      "text/plain": [
       "(numpy.int64, str, numpy.int64, 59173)"
      ]
     },
     "execution_count": 36,
     "metadata": {},
     "output_type": "execute_result"
    }
   ],
   "source": [
    "type(data['id'][0]), type(data['titles'][0]), type(data['clickbait'][0]), len(data['titles'])"
   ]
  },
  {
   "cell_type": "code",
   "execution_count": 37,
   "metadata": {},
   "outputs": [],
   "source": [
    "data=data.dropna().reset_index()"
   ]
  },
  {
   "cell_type": "code",
   "execution_count": 38,
   "metadata": {},
   "outputs": [],
   "source": [
    "data.to_csv('clickBait_Data.csv',index=False)"
   ]
  },
  {
   "cell_type": "code",
   "execution_count": 39,
   "metadata": {},
   "outputs": [
    {
     "data": {
      "text/html": [
       "<div>\n",
       "<style scoped>\n",
       "    .dataframe tbody tr th:only-of-type {\n",
       "        vertical-align: middle;\n",
       "    }\n",
       "\n",
       "    .dataframe tbody tr th {\n",
       "        vertical-align: top;\n",
       "    }\n",
       "\n",
       "    .dataframe thead th {\n",
       "        text-align: right;\n",
       "    }\n",
       "</style>\n",
       "<table border=\"1\" class=\"dataframe\">\n",
       "  <thead>\n",
       "    <tr style=\"text-align: right;\">\n",
       "      <th></th>\n",
       "      <th>index</th>\n",
       "      <th>id</th>\n",
       "      <th>titles</th>\n",
       "      <th>clickbait</th>\n",
       "    </tr>\n",
       "  </thead>\n",
       "  <tbody>\n",
       "    <tr>\n",
       "      <th>0</th>\n",
       "      <td>42179</td>\n",
       "      <td>42180</td>\n",
       "      <td>Arvind Panagariya raises first red flag on tax...</td>\n",
       "      <td>0</td>\n",
       "    </tr>\n",
       "    <tr>\n",
       "      <th>1</th>\n",
       "      <td>30990</td>\n",
       "      <td>30991</td>\n",
       "      <td>As an Iranian Briton, Theresa May's support fo...</td>\n",
       "      <td>1</td>\n",
       "    </tr>\n",
       "    <tr>\n",
       "      <th>2</th>\n",
       "      <td>21403</td>\n",
       "      <td>21404</td>\n",
       "      <td>In Trump's ongoing feud about Russia, he says ...</td>\n",
       "      <td>0</td>\n",
       "    </tr>\n",
       "    <tr>\n",
       "      <th>3</th>\n",
       "      <td>14415</td>\n",
       "      <td>14416</td>\n",
       "      <td>You Me at Six: Night People review  overwrough...</td>\n",
       "      <td>0</td>\n",
       "    </tr>\n",
       "    <tr>\n",
       "      <th>4</th>\n",
       "      <td>23421</td>\n",
       "      <td>23422</td>\n",
       "      <td>Dylann Roof, Addressing Court, Offers No Apolo...</td>\n",
       "      <td>0</td>\n",
       "    </tr>\n",
       "    <tr>\n",
       "      <th>...</th>\n",
       "      <td>...</td>\n",
       "      <td>...</td>\n",
       "      <td>...</td>\n",
       "      <td>...</td>\n",
       "    </tr>\n",
       "    <tr>\n",
       "      <th>59167</th>\n",
       "      <td>25928</td>\n",
       "      <td>25929</td>\n",
       "      <td>You cheeky monkey! Macaque climbs onto a fishi...</td>\n",
       "      <td>0</td>\n",
       "    </tr>\n",
       "    <tr>\n",
       "      <th>59168</th>\n",
       "      <td>31891</td>\n",
       "      <td>31892</td>\n",
       "      <td>FA Cup photo essay – road to Wembley, quarter-...</td>\n",
       "      <td>0</td>\n",
       "    </tr>\n",
       "    <tr>\n",
       "      <th>59169</th>\n",
       "      <td>12828</td>\n",
       "      <td>12829</td>\n",
       "      <td>OBE medal turns up at east London waste depot</td>\n",
       "      <td>0</td>\n",
       "    </tr>\n",
       "    <tr>\n",
       "      <th>59170</th>\n",
       "      <td>37619</td>\n",
       "      <td>37620</td>\n",
       "      <td>The 50 Funniest Tweets From Women In 2016</td>\n",
       "      <td>1</td>\n",
       "    </tr>\n",
       "    <tr>\n",
       "      <th>59171</th>\n",
       "      <td>56904</td>\n",
       "      <td>56905</td>\n",
       "      <td>Young Mom Cries Out In Pain 6 Weeks After Her ...</td>\n",
       "      <td>1</td>\n",
       "    </tr>\n",
       "  </tbody>\n",
       "</table>\n",
       "<p>59172 rows × 4 columns</p>\n",
       "</div>"
      ],
      "text/plain": [
       "       index     id                                             titles  \\\n",
       "0      42179  42180  Arvind Panagariya raises first red flag on tax...   \n",
       "1      30990  30991  As an Iranian Briton, Theresa May's support fo...   \n",
       "2      21403  21404  In Trump's ongoing feud about Russia, he says ...   \n",
       "3      14415  14416  You Me at Six: Night People review  overwrough...   \n",
       "4      23421  23422  Dylann Roof, Addressing Court, Offers No Apolo...   \n",
       "...      ...    ...                                                ...   \n",
       "59167  25928  25929  You cheeky monkey! Macaque climbs onto a fishi...   \n",
       "59168  31891  31892  FA Cup photo essay – road to Wembley, quarter-...   \n",
       "59169  12828  12829      OBE medal turns up at east London waste depot   \n",
       "59170  37619  37620          The 50 Funniest Tweets From Women In 2016   \n",
       "59171  56904  56905  Young Mom Cries Out In Pain 6 Weeks After Her ...   \n",
       "\n",
       "       clickbait  \n",
       "0              0  \n",
       "1              1  \n",
       "2              0  \n",
       "3              0  \n",
       "4              0  \n",
       "...          ...  \n",
       "59167          0  \n",
       "59168          0  \n",
       "59169          0  \n",
       "59170          1  \n",
       "59171          1  \n",
       "\n",
       "[59172 rows x 4 columns]"
      ]
     },
     "execution_count": 39,
     "metadata": {},
     "output_type": "execute_result"
    }
   ],
   "source": [
    "pd.read_csv('clickBait_Data.csv')"
   ]
  }
 ],
 "metadata": {
  "kernelspec": {
   "display_name": "Python 3 (ipykernel)",
   "language": "python",
   "name": "python3"
  },
  "language_info": {
   "codemirror_mode": {
    "name": "ipython",
    "version": 3
   },
   "file_extension": ".py",
   "mimetype": "text/x-python",
   "name": "python",
   "nbconvert_exporter": "python",
   "pygments_lexer": "ipython3",
   "version": "3.12.3"
  }
 },
 "nbformat": 4,
 "nbformat_minor": 4
}
